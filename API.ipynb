{
 "cells": [
  {
   "cell_type": "code",
   "execution_count": 1,
   "metadata": {},
   "outputs": [
    {
     "ename": "ModuleNotFoundError",
     "evalue": "No module named 'facebook'",
     "output_type": "error",
     "traceback": [
      "\u001b[1;31m---------------------------------------------------------------------------\u001b[0m",
      "\u001b[1;31mModuleNotFoundError\u001b[0m                       Traceback (most recent call last)",
      "\u001b[1;32m<ipython-input-1-d9dc19285b8a>\u001b[0m in \u001b[0;36m<module>\u001b[1;34m\u001b[0m\n\u001b[1;32m----> 1\u001b[1;33m \u001b[1;32mimport\u001b[0m \u001b[0mfacebook\u001b[0m\u001b[1;33m\u001b[0m\u001b[1;33m\u001b[0m\u001b[0m\n\u001b[0m\u001b[0;32m      2\u001b[0m \u001b[1;32mimport\u001b[0m \u001b[0mjson\u001b[0m\u001b[1;33m\u001b[0m\u001b[1;33m\u001b[0m\u001b[0m\n",
      "\u001b[1;31mModuleNotFoundError\u001b[0m: No module named 'facebook'"
     ]
    }
   ],
   "source": [
    "import facebook\n",
    "import json\n",
    "import pandas as pd"
   ]
  },
  {
   "cell_type": "code",
   "execution_count": 5,
   "metadata": {},
   "outputs": [
    {
     "ename": "SyntaxError",
     "evalue": "EOL while scanning string literal (<ipython-input-5-fbbd162da357>, line 8)",
     "output_type": "error",
     "traceback": [
      "\u001b[1;36m  File \u001b[1;32m\"<ipython-input-5-fbbd162da357>\"\u001b[1;36m, line \u001b[1;32m8\u001b[0m\n\u001b[1;33m    fields = [\"name,about,category,emails,engagement,country_page_likes,fan_count,link,talking_about_count,blocked{username},likes.limit(5),rating_count,ratings.limit(5),posts.limit(5),visitor_posts.limit(5),tagged.limit(5)”]\u001b[0m\n\u001b[1;37m                                                                                                                                                                                                                                 ^\u001b[0m\n\u001b[1;31mSyntaxError\u001b[0m\u001b[1;31m:\u001b[0m EOL while scanning string literal\n"
     ]
    }
   ],
   "source": [
    "def facebookExtract():\n",
    "    # Access token\n",
    "    token = {\"EAAGXikZCCy0sBAKRozuPMQ3CpKJiroxzxwftTilAoB3ux4NTLJCpj4rqFnKRxYHi6Odynvs83VZA9ucq4uUzUGepI7ZCChBu4y5T9Wi7wvHUXeZA8G043OZAqQkW7b48666PzQRkdrqJhXQCWgT65xlRZBaMvoJ4mOH3JmLlelaGobVd7ER6u8bD2lUNj5ytz45LSaTofiggZDZD\"}\n",
    "    # Graph object\n",
    "    graph = facebook.GraphAPI(token)\n",
    "    \n",
    "    # extract fields\n",
    "    fields = [\"name, about, category, emails, engagement, country_page_likes, fan_count, link,talking_about_count, blocked{username}, likes.limit(5), rating_count, ratings.limit(5), posts.limit(5), visitor_posts.limit(5), tagged.limit(5)”]\n",
    "    profile = graph.get_object(\"me\", fields = fields)\n",
    "    \n",
    "    print(json.dumps(profile, indent=4))\n",
    "    # export as csv        \n",
    "    # df = json.dumps(profile, indent=4)) \n",
    "    # export_csv = df.to_csv (r'C:\\Users\\Ron\\Desktop\\Test\\New_Products.csv', index = None, header=True)"
   ]
  },
  {
   "cell_type": "code",
   "execution_count": null,
   "metadata": {},
   "outputs": [],
   "source": [
    "if__name__ == \"__main__\":\n",
    "    facebookExtract()"
   ]
  }
 ],
 "metadata": {
  "kernelspec": {
   "display_name": "Python 3",
   "language": "python",
   "name": "python3"
  },
  "language_info": {
   "codemirror_mode": {
    "name": "ipython",
    "version": 3
   },
   "file_extension": ".py",
   "mimetype": "text/x-python",
   "name": "python",
   "nbconvert_exporter": "python",
   "pygments_lexer": "ipython3",
   "version": "3.7.3"
  }
 },
 "nbformat": 4,
 "nbformat_minor": 2
}
