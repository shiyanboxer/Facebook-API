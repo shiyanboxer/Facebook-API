{
 "cells": [
  {
   "cell_type": "code",
   "execution_count": 2,
   "metadata": {},
   "outputs": [],
   "source": [
    "import facebook\n",
    "import requests\n",
    "# from json import dump\n",
    "# import time\n",
    "import csv\n",
    "import sys"
   ]
  },
  {
   "cell_type": "code",
   "execution_count": 3,
   "metadata": {},
   "outputs": [],
   "source": [
    "# Authentication\n",
    "ACCESS_TOKEN = 'EAAK0u28Gh14BAGzjGnxXgcpgXvrdJeq4ks4BAVZApBSXvm99TGvihkhuZB5BHbguUx2PnBkvinWXyhUj8hvnDvZACJQzS1oRzZBc9bglXjQ4yrOW80vXA0ecbm0Gb6YuvllwwNm32S6jVzHnZCXTN2JIAhEZAFZBNpwgTcXIZCRw2xiRuoFRE9MJ8TQZBEnlcBZBSZBbX3MzZCKmggZDZD'\n",
    "\n",
    "# GET requests in FB me?fields=ratings.limit(10)\n",
    "URL = f\"https://graph.facebook.com/v8.0/me?fields=ratings.limit(10)&access_token={ACCESS_TOKEN}\""
   ]
  },
  {
   "cell_type": "code",
   "execution_count": 30,
   "metadata": {},
   "outputs": [
    {
     "ename": "NameError",
     "evalue": "name 'requests' is not defined",
     "output_type": "error",
     "traceback": [
      "\u001b[1;31m---------------------------------------------------------------------------\u001b[0m",
      "\u001b[1;31mNameError\u001b[0m                                 Traceback (most recent call last)",
      "\u001b[1;32m<ipython-input-30-1920938b6bb1>\u001b[0m in \u001b[0;36m<module>\u001b[1;34m\u001b[0m\n\u001b[0;32m      1\u001b[0m \u001b[0mdata\u001b[0m \u001b[1;33m=\u001b[0m \u001b[1;33m[\u001b[0m\u001b[1;33m]\u001b[0m\u001b[1;33m\u001b[0m\u001b[1;33m\u001b[0m\u001b[0m\n\u001b[1;32m----> 2\u001b[1;33m \u001b[0mr\u001b[0m \u001b[1;33m=\u001b[0m \u001b[0mrequests\u001b[0m\u001b[1;33m.\u001b[0m\u001b[0mget\u001b[0m\u001b[1;33m(\u001b[0m\u001b[0mURL\u001b[0m\u001b[1;33m)\u001b[0m  \u001b[1;31m# Make a GET request to the given URL\u001b[0m\u001b[1;33m\u001b[0m\u001b[1;33m\u001b[0m\u001b[0m\n\u001b[0m\u001b[0;32m      3\u001b[0m \u001b[0mdata\u001b[0m\u001b[1;33m.\u001b[0m\u001b[0mappend\u001b[0m\u001b[1;33m(\u001b[0m\u001b[0mr\u001b[0m\u001b[1;33m.\u001b[0m\u001b[0mjson\u001b[0m\u001b[1;33m(\u001b[0m\u001b[1;33m)\u001b[0m\u001b[1;33m)\u001b[0m  \u001b[1;31m# Extract data in the json form and append it into the list named \"data\"\u001b[0m\u001b[1;33m\u001b[0m\u001b[1;33m\u001b[0m\u001b[0m\n\u001b[0;32m      4\u001b[0m \u001b[1;33m\u001b[0m\u001b[0m\n\u001b[0;32m      5\u001b[0m \u001b[1;32mif\u001b[0m \u001b[1;34m'Error'\u001b[0m \u001b[1;32min\u001b[0m \u001b[0mdata\u001b[0m\u001b[1;33m[\u001b[0m\u001b[1;36m0\u001b[0m\u001b[1;33m]\u001b[0m\u001b[1;33m.\u001b[0m\u001b[0mkeys\u001b[0m\u001b[1;33m(\u001b[0m\u001b[1;33m)\u001b[0m \u001b[1;32mor\u001b[0m \u001b[1;34m'error'\u001b[0m \u001b[1;32min\u001b[0m \u001b[0mdata\u001b[0m\u001b[1;33m[\u001b[0m\u001b[1;36m0\u001b[0m\u001b[1;33m]\u001b[0m\u001b[1;33m.\u001b[0m\u001b[0mkeys\u001b[0m\u001b[1;33m(\u001b[0m\u001b[1;33m)\u001b[0m\u001b[1;33m:\u001b[0m\u001b[1;33m\u001b[0m\u001b[1;33m\u001b[0m\u001b[0m\n",
      "\u001b[1;31mNameError\u001b[0m: name 'requests' is not defined"
     ]
    }
   ],
   "source": [
    "data = []\n",
    "r = requests.get(URL)  # Make a GET request to the given URL\n",
    "data.append(r.json())  # Extract data in the json form and append it into the list named \"data\"\n",
    "\n",
    "if 'Error' in data[0].keys() or 'error' in data[0].keys():\n",
    "    print('Error Occured!')\n",
    "    print(data[0]['error']['message'])\n",
    "    sys.exit(0)\n",
    "\n",
    "# Make request for 49 times and made above one request so total 50 requests\n",
    "for i in range(49):\n",
    "    try:\n",
    "        # time.sleep(1) # to give delay of 1 sec.\n",
    "        # print(i+1) # to know something is happening\n",
    "        temp_url = data[0]['paging']['next']  # extract linnk of next page\n",
    "        temp_data = requests.get(temp_url).json() # get data of the page and again append into the list name \"data\"\n",
    "        # print(temp_data.keys())\n",
    "        if 'Error' in data[0].keys() or 'error' in data[0].keys():\n",
    "            print('Error')\n",
    "            break\n",
    "        data.append(temp_data)\n",
    "    except Exception as e:\n",
    "        print('ERROR:', e)\n",
    "        if 'pagging' in e or 'data' in e:\n",
    "            break    \n",
    "\n",
    "count = 1 # for indexing\n",
    "try:    \n",
    "    with open('FBdata.csv', mode='w', encoding=\"utf-8\", newline='') as file:\n",
    "        writer = csv.writer(file, delimiter=',', quotechar='\"', quoting=csv.QUOTE_MINIMAL)\n",
    "        writer.writerow('Number', 'Timestamp', 'Sentiment', 'Content')\n",
    "        for i in data:\n",
    "            print(i.keys())\n",
    "            for j in i['data']:\n",
    "                writer.writerow([count, j['created_time'], j['recommendation_type'], j['review_text']])\n",
    "                count += 1        \n",
    "except Exception as e:\n",
    "    print('Error in writing...')\n",
    "    print(e)"
   ]
  }
 ],
 "metadata": {
  "kernelspec": {
   "name": "Python 3.7.9 64-bit ('fbenv': conda)",
   "display_name": "Python 3.7.9 64-bit ('fbenv': conda)",
   "metadata": {
    "interpreter": {
     "hash": "08de1b77a5b5635bcbfa75579aa011556f0557009ec056ac6b8def3b69419ae9"
    }
   }
  },
  "language_info": {
   "codemirror_mode": {
    "name": "ipython",
    "version": 3
   },
   "file_extension": ".py",
   "mimetype": "text/x-python",
   "name": "python",
   "nbconvert_exporter": "python",
   "pygments_lexer": "ipython3",
   "version": "3.7.9-final"
  }
 },
 "nbformat": 4,
 "nbformat_minor": 2
}