{
 "cells": [
  {
   "cell_type": "code",
   "execution_count": 25,
   "metadata": {},
   "outputs": [],
   "source": [
    "import facebook\n",
    "import requests\n",
    "# from json import dump\n",
    "# import time\n",
    "import csv\n",
    "import sys\n",
    "import pandas as pd"
   ]
  },
  {
   "cell_type": "code",
   "execution_count": 26,
   "metadata": {},
   "outputs": [],
   "source": [
    "# Authentication\n",
    "ACCESS_TOKEN = 'EAAGXikZCCy0sBAKLc54D7fCCZBZAjYzkDRKnF0glKVmp02gyvMrYCZC7y4bpDCnZC15WkWCkQHf1ZCG4YWlZB0WnQCaAHSMBduCSJhBUDqm2sS33bfgfbrkPVeYihF4SwGP05GvStziM1rBx9CVaR7bZAb7d1wZAHgfkEXlaxKDYxdf0jTfvTVWtOps3LgV1vGK4Svy6xDppItQZDZD'\n",
    "\n",
    "# GET requests in FB me?fields=ratings.limit(10)\n",
    "URL = f\"https://graph.facebook.com/v8.0/me?fields=ratings.limit(10)&access_token={ACCESS_TOKEN}\""
   ]
  },
  {
   "cell_type": "code",
   "execution_count": 27,
   "metadata": {},
   "outputs": [
    {
     "output_type": "stream",
     "name": "stdout",
     "text": [
      "Done\n"
     ]
    }
   ],
   "source": [
    "data = []\n",
    "r = requests.get(URL)  # Make a GET request to the given URL\n",
    "data.append(r.json())  # Extract data in the json form and append it into the list named \"data\"\n",
    "\n",
    "if 'Error' in data[0].keys() or 'error' in data[0].keys():\n",
    "    print('Error Occured!')\n",
    "    print(data[0]['error']['message'])\n",
    "    sys.exit(0)\n",
    "\n",
    "try:    \n",
    "    with open('FBdata.csv', mode='w', encoding=\"utf-8\", newline='') as file:\n",
    "        writer = csv.writer(file, delimiter=',', quotechar='\"', quoting=csv.QUOTE_MINIMAL)\n",
    "        writer.writerow(['created_time', 'recommendation_type', 'review_text'])\n",
    "        for i in data[0]['ratings']['data']:\n",
    "            writer.writerow([i['created_time'], i['recommendation_type'], i['review_text']])\n",
    "        print(\"Done\")\n",
    "except Exception as e:\n",
    "    print('Error in writing...')\n",
    "    print(e)"
   ]
  },
  {
   "cell_type": "code",
   "execution_count": null,
   "metadata": {},
   "outputs": [],
   "source": []
  }
 ],
 "metadata": {
  "kernelspec": {
   "name": "Python 3.8.6 64-bit",
   "display_name": "Python 3.8.6 64-bit",
   "metadata": {
    "interpreter": {
     "hash": "03575125f3d766ecb7ae66cb0bf2d460bd859ca0b63dbeb81274387337bc174f"
    }
   }
  },
  "language_info": {
   "codemirror_mode": {
    "name": "ipython",
    "version": 3
   },
   "file_extension": ".py",
   "mimetype": "text/x-python",
   "name": "python",
   "nbconvert_exporter": "python",
   "pygments_lexer": "ipython3",
   "version": "3.8.6-final"
  }
 },
 "nbformat": 4,
 "nbformat_minor": 2
}